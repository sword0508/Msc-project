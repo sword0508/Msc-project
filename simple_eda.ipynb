{
 "cells": [
  {
   "cell_type": "code",
   "execution_count": 2,
   "id": "85cfa1f2-02e1-47f0-b98f-230f6b3ce820",
   "metadata": {
    "tags": []
   },
   "outputs": [
    {
     "name": "stdout",
     "output_type": "stream",
     "text": [
      "Intel MKL WARNING: Support of Intel(R) Streaming SIMD Extensions 4.2 (Intel(R) SSE4.2) enabled only processors has been deprecated. Intel oneAPI Math Kernel Library 2025.0 will require Intel(R) Advanced Vector Extensions (Intel(R) AVX) instructions.\n",
      "Intel MKL WARNING: Support of Intel(R) Streaming SIMD Extensions 4.2 (Intel(R) SSE4.2) enabled only processors has been deprecated. Intel oneAPI Math Kernel Library 2025.0 will require Intel(R) Advanced Vector Extensions (Intel(R) AVX) instructions.\n"
     ]
    }
   ],
   "source": [
    "import pandas as pd"
   ]
  },
  {
   "cell_type": "code",
   "execution_count": 3,
   "id": "789eabc8-ddec-40fd-b197-67072380815a",
   "metadata": {
    "tags": []
   },
   "outputs": [],
   "source": [
    "df = pd.read_csv(\"df.csv\")"
   ]
  },
  {
   "cell_type": "code",
   "execution_count": 4,
   "id": "982f3b95-eb0e-469d-8512-da8fd49cb94e",
   "metadata": {
    "tags": []
   },
   "outputs": [
    {
     "data": {
      "text/html": [
       "<div>\n",
       "<style scoped>\n",
       "    .dataframe tbody tr th:only-of-type {\n",
       "        vertical-align: middle;\n",
       "    }\n",
       "\n",
       "    .dataframe tbody tr th {\n",
       "        vertical-align: top;\n",
       "    }\n",
       "\n",
       "    .dataframe thead th {\n",
       "        text-align: right;\n",
       "    }\n",
       "</style>\n",
       "<table border=\"1\" class=\"dataframe\">\n",
       "  <thead>\n",
       "    <tr style=\"text-align: right;\">\n",
       "      <th></th>\n",
       "      <th>happy_trans</th>\n",
       "      <th>angry_trans</th>\n",
       "      <th>nervous_trans</th>\n",
       "      <th>sad_trans</th>\n",
       "    </tr>\n",
       "  </thead>\n",
       "  <tbody>\n",
       "    <tr>\n",
       "      <th>0</th>\n",
       "      <td>1</td>\n",
       "      <td>0</td>\n",
       "      <td>0</td>\n",
       "      <td>0</td>\n",
       "    </tr>\n",
       "    <tr>\n",
       "      <th>1</th>\n",
       "      <td>1</td>\n",
       "      <td>0</td>\n",
       "      <td>0</td>\n",
       "      <td>0</td>\n",
       "    </tr>\n",
       "    <tr>\n",
       "      <th>2</th>\n",
       "      <td>0</td>\n",
       "      <td>0</td>\n",
       "      <td>0</td>\n",
       "      <td>0</td>\n",
       "    </tr>\n",
       "    <tr>\n",
       "      <th>3</th>\n",
       "      <td>0</td>\n",
       "      <td>0</td>\n",
       "      <td>0</td>\n",
       "      <td>0</td>\n",
       "    </tr>\n",
       "    <tr>\n",
       "      <th>4</th>\n",
       "      <td>0</td>\n",
       "      <td>0</td>\n",
       "      <td>0</td>\n",
       "      <td>0</td>\n",
       "    </tr>\n",
       "    <tr>\n",
       "      <th>...</th>\n",
       "      <td>...</td>\n",
       "      <td>...</td>\n",
       "      <td>...</td>\n",
       "      <td>...</td>\n",
       "    </tr>\n",
       "    <tr>\n",
       "      <th>1625</th>\n",
       "      <td>0</td>\n",
       "      <td>0</td>\n",
       "      <td>0</td>\n",
       "      <td>0</td>\n",
       "    </tr>\n",
       "    <tr>\n",
       "      <th>1626</th>\n",
       "      <td>0</td>\n",
       "      <td>0</td>\n",
       "      <td>0</td>\n",
       "      <td>0</td>\n",
       "    </tr>\n",
       "    <tr>\n",
       "      <th>1627</th>\n",
       "      <td>0</td>\n",
       "      <td>0</td>\n",
       "      <td>0</td>\n",
       "      <td>0</td>\n",
       "    </tr>\n",
       "    <tr>\n",
       "      <th>1628</th>\n",
       "      <td>0</td>\n",
       "      <td>0</td>\n",
       "      <td>0</td>\n",
       "      <td>0</td>\n",
       "    </tr>\n",
       "    <tr>\n",
       "      <th>1629</th>\n",
       "      <td>0</td>\n",
       "      <td>0</td>\n",
       "      <td>0</td>\n",
       "      <td>0</td>\n",
       "    </tr>\n",
       "  </tbody>\n",
       "</table>\n",
       "<p>1630 rows × 4 columns</p>\n",
       "</div>"
      ],
      "text/plain": [
       "      happy_trans  angry_trans  nervous_trans  sad_trans\n",
       "0               1            0              0          0\n",
       "1               1            0              0          0\n",
       "2               0            0              0          0\n",
       "3               0            0              0          0\n",
       "4               0            0              0          0\n",
       "...           ...          ...            ...        ...\n",
       "1625            0            0              0          0\n",
       "1626            0            0              0          0\n",
       "1627            0            0              0          0\n",
       "1628            0            0              0          0\n",
       "1629            0            0              0          0\n",
       "\n",
       "[1630 rows x 4 columns]"
      ]
     },
     "execution_count": 4,
     "metadata": {},
     "output_type": "execute_result"
    }
   ],
   "source": [
    "df[[\n",
    "    'happy_trans', 'angry_trans', 'nervous_trans', 'sad_trans'\n",
    "]]"
   ]
  },
  {
   "cell_type": "code",
   "execution_count": 5,
   "id": "1cb9be6a-037e-4e52-bc18-4972064adf83",
   "metadata": {
    "tags": []
   },
   "outputs": [
    {
     "data": {
      "text/plain": [
       "0    1602\n",
       "1      28\n",
       "Name: sad_trans, dtype: int64"
      ]
     },
     "execution_count": 5,
     "metadata": {},
     "output_type": "execute_result"
    }
   ],
   "source": [
    "df.sad_trans.value_counts()"
   ]
  },
  {
   "cell_type": "code",
   "execution_count": 6,
   "id": "311b93b5-fe3f-441f-8753-91f668ab1a44",
   "metadata": {
    "tags": []
   },
   "outputs": [],
   "source": [
    "df[\"label\"] = df[\"sad_trans\"] + df[\"happy_trans\"] + df[\"angry_trans\"] + df[\"nervous_trans\"]"
   ]
  },
  {
   "cell_type": "code",
   "execution_count": 7,
   "id": "751575f5-fa1f-454f-9a2d-148b3e88ee4c",
   "metadata": {
    "tags": []
   },
   "outputs": [
    {
     "data": {
      "text/plain": [
       "1    583\n",
       "0    521\n",
       "2    358\n",
       "3    137\n",
       "4     25\n",
       "5      6\n",
       "Name: label, dtype: int64"
      ]
     },
     "execution_count": 7,
     "metadata": {},
     "output_type": "execute_result"
    }
   ],
   "source": [
    "df.label.value_counts()"
   ]
  },
  {
   "cell_type": "code",
   "execution_count": 8,
   "id": "4c54925d-a46f-4779-9850-4f85dbaea61a",
   "metadata": {
    "tags": []
   },
   "outputs": [
    {
     "data": {
      "text/html": [
       "<div>\n",
       "<style scoped>\n",
       "    .dataframe tbody tr th:only-of-type {\n",
       "        vertical-align: middle;\n",
       "    }\n",
       "\n",
       "    .dataframe tbody tr th {\n",
       "        vertical-align: top;\n",
       "    }\n",
       "\n",
       "    .dataframe thead th {\n",
       "        text-align: right;\n",
       "    }\n",
       "</style>\n",
       "<table border=\"1\" class=\"dataframe\">\n",
       "  <thead>\n",
       "    <tr style=\"text-align: right;\">\n",
       "      <th></th>\n",
       "      <th>happy_trans</th>\n",
       "      <th>angry_trans</th>\n",
       "      <th>nervous_trans</th>\n",
       "      <th>sad_trans</th>\n",
       "    </tr>\n",
       "  </thead>\n",
       "  <tbody>\n",
       "    <tr>\n",
       "      <th>0</th>\n",
       "      <td>1</td>\n",
       "      <td>0</td>\n",
       "      <td>0</td>\n",
       "      <td>0</td>\n",
       "    </tr>\n",
       "    <tr>\n",
       "      <th>1</th>\n",
       "      <td>1</td>\n",
       "      <td>0</td>\n",
       "      <td>0</td>\n",
       "      <td>0</td>\n",
       "    </tr>\n",
       "    <tr>\n",
       "      <th>8</th>\n",
       "      <td>0</td>\n",
       "      <td>0</td>\n",
       "      <td>1</td>\n",
       "      <td>0</td>\n",
       "    </tr>\n",
       "    <tr>\n",
       "      <th>9</th>\n",
       "      <td>0</td>\n",
       "      <td>0</td>\n",
       "      <td>1</td>\n",
       "      <td>0</td>\n",
       "    </tr>\n",
       "    <tr>\n",
       "      <th>10</th>\n",
       "      <td>0</td>\n",
       "      <td>0</td>\n",
       "      <td>1</td>\n",
       "      <td>0</td>\n",
       "    </tr>\n",
       "    <tr>\n",
       "      <th>...</th>\n",
       "      <td>...</td>\n",
       "      <td>...</td>\n",
       "      <td>...</td>\n",
       "      <td>...</td>\n",
       "    </tr>\n",
       "    <tr>\n",
       "      <th>1615</th>\n",
       "      <td>1</td>\n",
       "      <td>0</td>\n",
       "      <td>0</td>\n",
       "      <td>0</td>\n",
       "    </tr>\n",
       "    <tr>\n",
       "      <th>1616</th>\n",
       "      <td>1</td>\n",
       "      <td>0</td>\n",
       "      <td>0</td>\n",
       "      <td>0</td>\n",
       "    </tr>\n",
       "    <tr>\n",
       "      <th>1617</th>\n",
       "      <td>1</td>\n",
       "      <td>0</td>\n",
       "      <td>0</td>\n",
       "      <td>0</td>\n",
       "    </tr>\n",
       "    <tr>\n",
       "      <th>1618</th>\n",
       "      <td>1</td>\n",
       "      <td>0</td>\n",
       "      <td>0</td>\n",
       "      <td>0</td>\n",
       "    </tr>\n",
       "    <tr>\n",
       "      <th>1619</th>\n",
       "      <td>1</td>\n",
       "      <td>0</td>\n",
       "      <td>0</td>\n",
       "      <td>0</td>\n",
       "    </tr>\n",
       "  </tbody>\n",
       "</table>\n",
       "<p>583 rows × 4 columns</p>\n",
       "</div>"
      ],
      "text/plain": [
       "      happy_trans  angry_trans  nervous_trans  sad_trans\n",
       "0               1            0              0          0\n",
       "1               1            0              0          0\n",
       "8               0            0              1          0\n",
       "9               0            0              1          0\n",
       "10              0            0              1          0\n",
       "...           ...          ...            ...        ...\n",
       "1615            1            0              0          0\n",
       "1616            1            0              0          0\n",
       "1617            1            0              0          0\n",
       "1618            1            0              0          0\n",
       "1619            1            0              0          0\n",
       "\n",
       "[583 rows x 4 columns]"
      ]
     },
     "execution_count": 8,
     "metadata": {},
     "output_type": "execute_result"
    }
   ],
   "source": [
    "df[df[\"label\"] == 1][[\n",
    "    'happy_trans', 'angry_trans', 'nervous_trans', 'sad_trans'\n",
    "]]"
   ]
  },
  {
   "cell_type": "code",
   "execution_count": 9,
   "id": "c85bec15-0aa6-4521-bef5-f1c3f452d1b9",
   "metadata": {
    "tags": []
   },
   "outputs": [
    {
     "data": {
      "text/html": [
       "<div>\n",
       "<style scoped>\n",
       "    .dataframe tbody tr th:only-of-type {\n",
       "        vertical-align: middle;\n",
       "    }\n",
       "\n",
       "    .dataframe tbody tr th {\n",
       "        vertical-align: top;\n",
       "    }\n",
       "\n",
       "    .dataframe thead th {\n",
       "        text-align: right;\n",
       "    }\n",
       "</style>\n",
       "<table border=\"1\" class=\"dataframe\">\n",
       "  <thead>\n",
       "    <tr style=\"text-align: right;\">\n",
       "      <th></th>\n",
       "      <th>happy_trans</th>\n",
       "      <th>angry_trans</th>\n",
       "      <th>nervous_trans</th>\n",
       "      <th>sad_trans</th>\n",
       "    </tr>\n",
       "  </thead>\n",
       "  <tbody>\n",
       "    <tr>\n",
       "      <th>16</th>\n",
       "      <td>1</td>\n",
       "      <td>0</td>\n",
       "      <td>1</td>\n",
       "      <td>0</td>\n",
       "    </tr>\n",
       "    <tr>\n",
       "      <th>90</th>\n",
       "      <td>1</td>\n",
       "      <td>0</td>\n",
       "      <td>1</td>\n",
       "      <td>0</td>\n",
       "    </tr>\n",
       "    <tr>\n",
       "      <th>135</th>\n",
       "      <td>0</td>\n",
       "      <td>1</td>\n",
       "      <td>1</td>\n",
       "      <td>0</td>\n",
       "    </tr>\n",
       "    <tr>\n",
       "      <th>136</th>\n",
       "      <td>0</td>\n",
       "      <td>1</td>\n",
       "      <td>1</td>\n",
       "      <td>0</td>\n",
       "    </tr>\n",
       "    <tr>\n",
       "      <th>137</th>\n",
       "      <td>0</td>\n",
       "      <td>1</td>\n",
       "      <td>1</td>\n",
       "      <td>0</td>\n",
       "    </tr>\n",
       "    <tr>\n",
       "      <th>...</th>\n",
       "      <td>...</td>\n",
       "      <td>...</td>\n",
       "      <td>...</td>\n",
       "      <td>...</td>\n",
       "    </tr>\n",
       "    <tr>\n",
       "      <th>1527</th>\n",
       "      <td>1</td>\n",
       "      <td>0</td>\n",
       "      <td>1</td>\n",
       "      <td>0</td>\n",
       "    </tr>\n",
       "    <tr>\n",
       "      <th>1528</th>\n",
       "      <td>1</td>\n",
       "      <td>0</td>\n",
       "      <td>1</td>\n",
       "      <td>0</td>\n",
       "    </tr>\n",
       "    <tr>\n",
       "      <th>1529</th>\n",
       "      <td>1</td>\n",
       "      <td>0</td>\n",
       "      <td>1</td>\n",
       "      <td>0</td>\n",
       "    </tr>\n",
       "    <tr>\n",
       "      <th>1530</th>\n",
       "      <td>1</td>\n",
       "      <td>0</td>\n",
       "      <td>1</td>\n",
       "      <td>0</td>\n",
       "    </tr>\n",
       "    <tr>\n",
       "      <th>1544</th>\n",
       "      <td>1</td>\n",
       "      <td>0</td>\n",
       "      <td>1</td>\n",
       "      <td>0</td>\n",
       "    </tr>\n",
       "  </tbody>\n",
       "</table>\n",
       "<p>358 rows × 4 columns</p>\n",
       "</div>"
      ],
      "text/plain": [
       "      happy_trans  angry_trans  nervous_trans  sad_trans\n",
       "16              1            0              1          0\n",
       "90              1            0              1          0\n",
       "135             0            1              1          0\n",
       "136             0            1              1          0\n",
       "137             0            1              1          0\n",
       "...           ...          ...            ...        ...\n",
       "1527            1            0              1          0\n",
       "1528            1            0              1          0\n",
       "1529            1            0              1          0\n",
       "1530            1            0              1          0\n",
       "1544            1            0              1          0\n",
       "\n",
       "[358 rows x 4 columns]"
      ]
     },
     "execution_count": 9,
     "metadata": {},
     "output_type": "execute_result"
    }
   ],
   "source": [
    "df[df[\"label\"] == 2][[\n",
    "    'happy_trans', 'angry_trans', 'nervous_trans', 'sad_trans'\n",
    "]]"
   ]
  },
  {
   "cell_type": "code",
   "execution_count": 10,
   "id": "3f659d0a-66d3-4e18-97a0-5053f4929e9a",
   "metadata": {
    "tags": []
   },
   "outputs": [
    {
     "data": {
      "text/plain": [
       "delta0         -0.056\n",
       "delta1         -0.478\n",
       "delta2         -0.512\n",
       "delta3          -0.42\n",
       "delta4         -0.447\n",
       "delta5         -0.438\n",
       "lowAlpha0      -0.292\n",
       "lowAlpha1      -0.422\n",
       "lowAlpha2      -0.422\n",
       "lowAlpha3      -0.389\n",
       "lowAlpha4      -0.067\n",
       "lowAlpha5      -0.347\n",
       "highAlpha0     -0.367\n",
       "highAlpha1     -0.469\n",
       "highAlpha2     -0.502\n",
       "highAlpha3     -0.239\n",
       "highAlpha4     -0.422\n",
       "highAlpha5     -0.259\n",
       "lowBeta0        -0.29\n",
       "lowBeta1       -0.361\n",
       "lowBeta2       -0.504\n",
       "lowBeta3       -0.202\n",
       "lowBeta4       -0.322\n",
       "lowBeta5       -0.262\n",
       "highBeta0      -0.507\n",
       "highBeta1      -0.528\n",
       "highBeta2       -0.53\n",
       "highBeta3      -0.512\n",
       "highBeta4      -0.521\n",
       "highBeta5      -0.487\n",
       "lowGamma0      -0.513\n",
       "lowGamma1      -0.522\n",
       "lowGamma2      -0.532\n",
       "lowGamma3      -0.515\n",
       "lowGamma4      -0.512\n",
       "lowGamma5      -0.359\n",
       "middleGamma0     4.08\n",
       "middleGamma1    2.893\n",
       "middleGamma2   -0.213\n",
       "middleGamma3    2.615\n",
       "middleGamma4    1.353\n",
       "middleGamma5   -0.102\n",
       "theta0          2.047\n",
       "theta1         -0.109\n",
       "theta2         -0.346\n",
       "theta3          0.802\n",
       "theta4          1.356\n",
       "theta5          0.151\n",
       "Name: 0, dtype: object"
      ]
     },
     "execution_count": 10,
     "metadata": {},
     "output_type": "execute_result"
    }
   ],
   "source": [
    "df.iloc[0][['delta0', 'delta1', 'delta2', 'delta3', 'delta4', 'delta5', 'lowAlpha0', 'lowAlpha1', \n",
    "                                 'lowAlpha2', 'lowAlpha3', 'lowAlpha4', 'lowAlpha5', 'highAlpha0', 'highAlpha1', \n",
    "                                 'highAlpha2', 'highAlpha3', 'highAlpha4', 'highAlpha5', 'lowBeta0', 'lowBeta1', \n",
    "                                 'lowBeta2', 'lowBeta3', 'lowBeta4', 'lowBeta5', 'highBeta0', 'highBeta1', 'highBeta2',\n",
    "                                 'highBeta3', 'highBeta4', 'highBeta5', 'lowGamma0', 'lowGamma1', 'lowGamma2', 'lowGamma3', \n",
    "                                 'lowGamma4', 'lowGamma5', 'middleGamma0', 'middleGamma1', 'middleGamma2', \n",
    "                                 'middleGamma3', 'middleGamma4', 'middleGamma5', 'theta0', 'theta1', 'theta2', \n",
    "                                 'theta3', 'theta4', 'theta5']]"
   ]
  },
  {
   "cell_type": "code",
   "execution_count": 11,
   "id": "b41dcc1b-fa5e-445d-893a-8845b31542c7",
   "metadata": {
    "tags": []
   },
   "outputs": [],
   "source": [
    "import numpy as np "
   ]
  },
  {
   "cell_type": "code",
   "execution_count": 12,
   "id": "01c54b1c-acff-4bdb-80c7-0a11d860d465",
   "metadata": {
    "tags": []
   },
   "outputs": [
    {
     "data": {
      "text/plain": [
       "array([-0.056, -0.478, -0.512, -0.42, -0.447, -0.438, -0.292, -0.422,\n",
       "       -0.422, -0.389, -0.067, -0.347, -0.367, -0.469, -0.502, -0.239,\n",
       "       -0.422, -0.259, -0.29, -0.361, -0.504, -0.202, -0.322, -0.262,\n",
       "       -0.507, -0.528, -0.53, -0.512, -0.521, -0.487, -0.513, -0.522,\n",
       "       -0.532, -0.515, -0.512, -0.359, 4.08, 2.893, -0.213, 2.615, 1.353,\n",
       "       -0.102, 2.047, -0.109, -0.346, 0.802, 1.356, 0.151], dtype=object)"
      ]
     },
     "execution_count": 12,
     "metadata": {},
     "output_type": "execute_result"
    }
   ],
   "source": [
    "np.array(df.iloc[0][['delta0', 'delta1', 'delta2', 'delta3', 'delta4', 'delta5', 'lowAlpha0', 'lowAlpha1', \n",
    "                                 'lowAlpha2', 'lowAlpha3', 'lowAlpha4', 'lowAlpha5', 'highAlpha0', 'highAlpha1', \n",
    "                                 'highAlpha2', 'highAlpha3', 'highAlpha4', 'highAlpha5', 'lowBeta0', 'lowBeta1', \n",
    "                                 'lowBeta2', 'lowBeta3', 'lowBeta4', 'lowBeta5', 'highBeta0', 'highBeta1', 'highBeta2',\n",
    "                                 'highBeta3', 'highBeta4', 'highBeta5', 'lowGamma0', 'lowGamma1', 'lowGamma2', 'lowGamma3', \n",
    "                                 'lowGamma4', 'lowGamma5', 'middleGamma0', 'middleGamma1', 'middleGamma2', \n",
    "                                 'middleGamma3', 'middleGamma4', 'middleGamma5', 'theta0', 'theta1', 'theta2', \n",
    "                                 'theta3', 'theta4', 'theta5']])"
   ]
  },
  {
   "cell_type": "code",
   "execution_count": 13,
   "id": "1bb03fd9-ea0a-49e8-adee-60cc54ae0db9",
   "metadata": {
    "tags": []
   },
   "outputs": [
    {
     "data": {
      "text/plain": [
       "array([[-0.056, -0.478, -0.512, -0.42, -0.447, -0.438],\n",
       "       [-0.292, -0.422, -0.422, -0.389, -0.067, -0.347],\n",
       "       [-0.367, -0.469, -0.502, -0.239, -0.422, -0.259],\n",
       "       [-0.29, -0.361, -0.504, -0.202, -0.322, -0.262],\n",
       "       [-0.507, -0.528, -0.53, -0.512, -0.521, -0.487],\n",
       "       [-0.513, -0.522, -0.532, -0.515, -0.512, -0.359],\n",
       "       [4.08, 2.893, -0.213, 2.615, 1.353, -0.102],\n",
       "       [2.047, -0.109, -0.346, 0.802, 1.356, 0.151]], dtype=object)"
      ]
     },
     "execution_count": 13,
     "metadata": {},
     "output_type": "execute_result"
    }
   ],
   "source": [
    "np.array(df.iloc[0][['delta0', 'delta1', 'delta2', 'delta3', 'delta4', 'delta5', 'lowAlpha0', 'lowAlpha1', \n",
    "                                 'lowAlpha2', 'lowAlpha3', 'lowAlpha4', 'lowAlpha5', 'highAlpha0', 'highAlpha1', \n",
    "                                 'highAlpha2', 'highAlpha3', 'highAlpha4', 'highAlpha5', 'lowBeta0', 'lowBeta1', \n",
    "                                 'lowBeta2', 'lowBeta3', 'lowBeta4', 'lowBeta5', 'highBeta0', 'highBeta1', 'highBeta2',\n",
    "                                 'highBeta3', 'highBeta4', 'highBeta5', 'lowGamma0', 'lowGamma1', 'lowGamma2', 'lowGamma3', \n",
    "                                 'lowGamma4', 'lowGamma5', 'middleGamma0', 'middleGamma1', 'middleGamma2', \n",
    "                                 'middleGamma3', 'middleGamma4', 'middleGamma5', 'theta0', 'theta1', 'theta2', \n",
    "                                 'theta3', 'theta4', 'theta5']]).reshape(-1, 6)"
   ]
  },
  {
   "cell_type": "code",
   "execution_count": null,
   "id": "22e1053f",
   "metadata": {},
   "outputs": [],
   "source": []
  },
  {
   "cell_type": "code",
   "execution_count": null,
   "id": "8828339f",
   "metadata": {},
   "outputs": [],
   "source": []
  },
  {
   "cell_type": "code",
   "execution_count": null,
   "id": "152035a6",
   "metadata": {},
   "outputs": [],
   "source": []
  }
 ],
 "metadata": {
  "kernelspec": {
   "display_name": "Python 3 (ipykernel)",
   "language": "python",
   "name": "python3"
  },
  "language_info": {
   "codemirror_mode": {
    "name": "ipython",
    "version": 3
   },
   "file_extension": ".py",
   "mimetype": "text/x-python",
   "name": "python",
   "nbconvert_exporter": "python",
   "pygments_lexer": "ipython3",
   "version": "3.9.13"
  }
 },
 "nbformat": 4,
 "nbformat_minor": 5
}
